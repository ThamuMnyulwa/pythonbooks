{
 "cells": [
  {
   "cell_type": "markdown",
   "metadata": {},
   "source": [
    "# Histograms in Python"
   ]
  },
  {
   "cell_type": "markdown",
   "metadata": {},
   "source": [
    "This document explains how Histograms are set in Python and how to deal with them. Initially we begin by setting up our enviroment and loading the needed packages. Note that to save press Escape + S"
   ]
  },
  {
   "cell_type": "code",
   "execution_count": 1,
   "metadata": {},
   "outputs": [],
   "source": [
    "import numpy as np\n",
    "from scipy.stats import norm\n",
    "import matplotlib.pyplot as plt\n",
    "import matplotlib.mlab as mlab\n",
    "import matplotlib.pyplot as pyplot"
   ]
  },
  {
   "cell_type": "code",
   "execution_count": 2,
   "metadata": {},
   "outputs": [],
   "source": [
    "# generate a 1000 random uniform values\n",
    "data=np.array([np.random.randn() for i in range(1000)])"
   ]
  },
  {
   "cell_type": "markdown",
   "metadata": {},
   "source": [
    "# 1. Simple way using the hist function"
   ]
  },
  {
   "cell_type": "markdown",
   "metadata": {},
   "source": [
    "This function is part of the Matplotlib library. By default, hist gives the histogram values in addition to the plot.\n",
    "The R equivaluent is hist() function."
   ]
  },
  {
   "cell_type": "code",
   "execution_count": 3,
   "metadata": {},
   "outputs": [
    {
     "data": {
      "text/plain": [
       "(array([ 2.,  1.,  0.,  1.,  1.,  1.,  0.,  1.,  2.,  0.,  8.,  2.,  5.,\n",
       "         6.,  7.,  4., 10.,  5.,  6.,  6., 10.,  4.,  5.,  9., 11., 10.,\n",
       "        13., 16., 11., 15., 16., 16., 21., 10., 23., 21., 24., 25., 24.,\n",
       "        20., 20., 17., 32., 28., 33., 23., 16., 27., 20., 27., 20., 27.,\n",
       "        23., 20., 27., 15., 14., 22., 14., 25., 12., 14., 14., 11., 10.,\n",
       "         9., 14., 12.,  8.,  5., 12.,  4.,  9.,  7.,  7.,  3.,  2.,  4.,\n",
       "         1.,  1.,  2.,  4.,  3.,  0.,  1.,  0.,  3.,  0.,  0.,  0.,  1.,\n",
       "         0.,  2.,  0.,  1.,  0.,  0.,  1.,  0.,  1.]),\n",
       " array([-2.72032534, -2.66149976, -2.60267417, -2.54384859, -2.48502301,\n",
       "        -2.42619742, -2.36737184, -2.30854626, -2.24972067, -2.19089509,\n",
       "        -2.13206951, -2.07324393, -2.01441834, -1.95559276, -1.89676718,\n",
       "        -1.83794159, -1.77911601, -1.72029043, -1.66146484, -1.60263926,\n",
       "        -1.54381368, -1.4849881 , -1.42616251, -1.36733693, -1.30851135,\n",
       "        -1.24968576, -1.19086018, -1.1320346 , -1.07320901, -1.01438343,\n",
       "        -0.95555785, -0.89673226, -0.83790668, -0.7790811 , -0.72025552,\n",
       "        -0.66142993, -0.60260435, -0.54377877, -0.48495318, -0.4261276 ,\n",
       "        -0.36730202, -0.30847643, -0.24965085, -0.19082527, -0.13199969,\n",
       "        -0.0731741 , -0.01434852,  0.04447706,  0.10330265,  0.16212823,\n",
       "         0.22095381,  0.2797794 ,  0.33860498,  0.39743056,  0.45625614,\n",
       "         0.51508173,  0.57390731,  0.63273289,  0.69155848,  0.75038406,\n",
       "         0.80920964,  0.86803523,  0.92686081,  0.98568639,  1.04451198,\n",
       "         1.10333756,  1.16216314,  1.22098872,  1.27981431,  1.33863989,\n",
       "         1.39746547,  1.45629106,  1.51511664,  1.57394222,  1.63276781,\n",
       "         1.69159339,  1.75041897,  1.80924455,  1.86807014,  1.92689572,\n",
       "         1.9857213 ,  2.04454689,  2.10337247,  2.16219805,  2.22102364,\n",
       "         2.27984922,  2.3386748 ,  2.39750038,  2.45632597,  2.51515155,\n",
       "         2.57397713,  2.63280272,  2.6916283 ,  2.75045388,  2.80927947,\n",
       "         2.86810505,  2.92693063,  2.98575622,  3.0445818 ,  3.10340738,\n",
       "         3.16223296]),\n",
       " <a list of 100 Patch objects>)"
      ]
     },
     "execution_count": 3,
     "metadata": {},
     "output_type": "execute_result"
    },
    {
     "data": {
      "image/png": "[encoded data removed]",
      "text/plain": [
       "<Figure size 432x288 with 1 Axes>"
      ]
     },
     "metadata": {
      "needs_background": "light"
     },
     "output_type": "display_data"
    }
   ],
   "source": [
    "# Plot the values with 100 bins\n",
    "plt.hist(data,100)"
   ]
  },
  {
   "cell_type": "markdown",
   "metadata": {},
   "source": [
    "Initially the bin postitions are prointed followed by some of the values."
   ]
  },
  {
   "cell_type": "markdown",
   "metadata": {},
   "source": [
    "To only get the plot, we use the show command \"plt.show()\". We also incoporate the 'density' option to make sure that the histogram is normalized as a probability density. Note that the argument is set to \"True\" weheas in R the equivalent is \"TRUE\"."
   ]
  },
  {
   "cell_type": "code",
   "execution_count": 4,
   "metadata": {},
   "outputs": [
    {
     "data": {
      "image/png": "[encoded data removed]",
      "text/plain": [
       "<Figure size 432x288 with 1 Axes>"
      ]
     },
     "metadata": {
      "needs_background": "light"
     },
     "output_type": "display_data"
    }
   ],
   "source": [
    "plt.hist(data, 100, density=True)\n",
    "plt.show()"
   ]
  },
  {
   "cell_type": "markdown",
   "metadata": {},
   "source": [
    "One can plot a normal distribution of standard normal with mean 0 and standard deviation 1 as below."
   ]
  },
  {
   "cell_type": "code",
   "execution_count": 5,
   "metadata": {},
   "outputs": [
    {
     "data": {
      "text/plain": [
       "[<matplotlib.lines.Line2D at 0x843270b710>]"
      ]
     },
     "execution_count": 5,
     "metadata": {},
     "output_type": "execute_result"
    },
    {
     "data": {
      "image/png": "[encoded data removed]",
      "text/plain": [
       "<Figure size 432x288 with 1 Axes>"
      ]
     },
     "metadata": {
      "needs_background": "light"
     },
     "output_type": "display_data"
    }
   ],
   "source": [
    "import math\n",
    "sigma = 1\n",
    "mu = 0\n",
    "xx = np.linspace(-5,5,500)\n",
    "yy = 1/math.sqrt(2*math.pi*sigma) * np.exp(-(xx-mu)**2/(2*sigma**2))\n",
    "plt.plot(xx,yy)"
   ]
  },
  {
   "cell_type": "markdown",
   "metadata": {},
   "source": [
    "This can then be taken further to sample from our sample data that was sampled from a random standard normal distribution as we plot a histogram on the random standard normal distribution below."
   ]
  },
  {
   "cell_type": "markdown",
   "metadata": {},
   "source": [
    "We begin by creating the x cordinates then input the x coordinates into the distribution function, that is normal pdf in order to create the line graph \"plt.plot(xx,yy)\" that superimposes the line graph on our histogram. Note that the histogram was put last and the histogram does not have to be placed before the line graph."
   ]
  },
  {
   "cell_type": "code",
   "execution_count": 6,
   "metadata": {},
   "outputs": [
    {
     "data": {
      "image/png": "[encoded data removed]",
      "text/plain": [
       "<Figure size 432x288 with 1 Axes>"
      ]
     },
     "metadata": {
      "needs_background": "light"
     },
     "output_type": "display_data"
    }
   ],
   "source": [
    "sigma = 1  # Our underliying distribution is standard normal so mean is always 0 and sigma is always 1.\n",
    "mu = 0\n",
    "xx = np.linspace(-5,5,500)   # x coardinates are defined as a vector of values. Note the use of numpy for vectors and matrices\n",
    "yy = 1/math.sqrt(2*math.pi*sigma) * np.exp(-(xx-mu)**2/(2*sigma**2)) # The normal density function creates the y coordinates \n",
    "plt.plot(xx,yy)  # Plot the superimposed line as x and y cordinates are \n",
    "plt.hist(data,bins=100, density=True)\n",
    "\n",
    "\n",
    "plt.show()"
   ]
  },
  {
   "cell_type": "markdown",
   "metadata": {},
   "source": [
    "Lastly we take the above code and add some asthetics of graph title including attempting to change the colour. Below we find all edits in bullet form:"
   ]
  },
  {
   "cell_type": "markdown",
   "metadata": {},
   "source": [
    "- Title Heading\n",
    "- x axis label\n",
    "- y axis label\n",
    "- Text on histogram\n",
    "- Grid\n",
    "- Colour of histogram"
   ]
  },
  {
   "cell_type": "code",
   "execution_count": 7,
   "metadata": {},
   "outputs": [
    {
     "data": {
      "image/png": "[encoded data removed]",
      "text/plain": [
       "<Figure size 432x288 with 1 Axes>"
      ]
     },
     "metadata": {
      "needs_background": "light"
     },
     "output_type": "display_data"
    }
   ],
   "source": [
    "sigma = 1 \n",
    "mu = 0\n",
    "xx = np.linspace(-5,5,500)   \n",
    "yy = 1/math.sqrt(2*math.pi*sigma) * np.exp(-(xx-mu)**2/(2*sigma**2))  \n",
    "plt.plot(xx,yy)  \n",
    "plt.hist(data,bins=100, density=True,color=\"red\",label=str)\n",
    "\n",
    "plt.xlabel('X')                          # X axis label\n",
    "plt.ylabel('Probability')                # Y axis label\n",
    "plt.title('Histogram of IQ')             # Plot title\n",
    "plt.text(-4, 0.3, r'$\\mu=0,\\ \\sigma=1$') # Text on Histogram\n",
    "plt.grid(True)                           # Plot the grid\n",
    "\n",
    "plt.show()   "
   ]
  },
  {
   "cell_type": "markdown",
   "metadata": {},
   "source": [
    "# 2. Better Way: Histogram Function"
   ]
  },
  {
   "cell_type": "markdown",
   "metadata": {},
   "source": [
    "Numpy has a histogram function which is quite comprehensive:"
   ]
  },
  {
   "cell_type": "code",
   "execution_count": 10,
   "metadata": {},
   "outputs": [
    {
     "data": {
      "text/plain": [
       "(array([  9,  59, 104, 200, 243, 207, 109,  50,  13,   6], dtype=int64),\n",
       " array([-2.72032534, -2.13206951, -1.54381368, -0.95555785, -0.36730202,\n",
       "         0.22095381,  0.80920964,  1.39746547,  1.9857213 ,  2.57397713,\n",
       "         3.16223296]))"
      ]
     },
     "execution_count": 10,
     "metadata": {},
     "output_type": "execute_result"
    }
   ],
   "source": [
    "np.histogram(data, 10)"
   ]
  },
  {
   "cell_type": "markdown",
   "metadata": {},
   "source": [
    "1. The first array is the bincounts, not normalised. This is the same as the counts in R that shows the number of points within each bin.\n",
    "\n",
    "2. The second array contains $n + 1$ points that specify the bases of the n bins we want, so that array has one more point than the bincount array. This is what we would call the 'bin specifications'.\n",
    "\n",
    "0. With this in mind, here is how we can plot the result as a bar chart:"
   ]
  },
  {
   "cell_type": "code",
   "execution_count": 18,
   "metadata": {},
   "outputs": [
    {
     "data": {
      "image/png": "[encoded data removed]",
      "text/plain": [
       "<Figure size 432x288 with 1 Axes>"
      ]
     },
     "metadata": {
      "needs_background": "light"
     },
     "output_type": "display_data"
    }
   ],
   "source": [
    "nbins = 100                                # Number of bins\n",
    "hist, bin_spec = np.histogram(data, nbins) # First argument is bincounts array, second is the binspecifications\n",
    "a, b = min(bin_spec), max(bin_spec)        # Assign the min to a and max to b\n",
    "dx = (b-a)/nbins\n",
    "plt.bar(bin_spec[:-1], hist, width = dx)\n",
    "plt.title('Numpy histogram function')      # Plot title\n",
    "\n",
    "plt.show()"
   ]
  },
  {
   "cell_type": "markdown",
   "metadata": {},
   "source": [
    "- The  direction bin_spec[:-1] takes all elements except the last, so we are positioning the bins with the left coordintates. \n",
    "- To positioning the bins with the left coordinates. To position the bins with center points, push the position by $d x/2$:"
   ]
  },
  {
   "cell_type": "code",
   "execution_count": 19,
   "metadata": {},
   "outputs": [
    {
     "data": {
      "image/png": "[encoded data removed]",
      "text/plain": [
       "<Figure size 432x288 with 1 Axes>"
      ]
     },
     "metadata": {
      "needs_background": "light"
     },
     "output_type": "display_data"
    }
   ],
   "source": [
    "nbins = 100\n",
    "hist, bin_spec = np.histogram(data, nbins)\n",
    "a, b = min(bin_spec), max(bin_spec)\n",
    "dx = (b-a)/nbins\n",
    "plt.bar(bin_spec[:-1]+dx/2.0, hist, width = dx )\n",
    "plt.show()"
   ]
  }
 ],
 "metadata": {
  "kernelspec": {
   "display_name": "Python 3",
   "language": "python",
   "name": "python3"
  },
  "language_info": {
   "codemirror_mode": {
    "name": "ipython",
    "version": 3
   },
   "file_extension": ".py",
   "mimetype": "text/x-python",
   "name": "python",
   "nbconvert_exporter": "python",
   "pygments_lexer": "ipython3",
   "version": "3.7.3"
  }
 },
 "nbformat": 4,
 "nbformat_minor": 2
}
