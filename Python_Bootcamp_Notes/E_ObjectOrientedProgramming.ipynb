{
 "cells": [
  {
   "cell_type": "markdown",
   "metadata": {},
   "source": [
    "# Object Oriented Programming\n",
    "---\n",
    "- OOP allows programmers to create their own objects that have methods and attributes.\n",
    "- Recall that after defining a string, list, dictionary, or other objects, you were able to call methods off them with the <code>.method_name()</code> syntax.\n",
    "\n",
    "---\n",
    "- These methods act as functions that use information about the objects, as well as the object itself to return results, or change the current object.\n",
    "- For example this includes appending to a list, or counting the occurences of an element in a tuple.\n",
    "\n",
    "---\n",
    "- OOP allows users ti create their own objects.\n",
    "- The general format is often confusing when first encountered, and its usefulness may not be completely clear,$\\dots$ at first.\n",
    "- In general, OOP allows us to create code that is repeatable and organized.\n",
    "---\n",
    "- For much larger scripts of Python code, functios by themselves aren't enough  for organization and repeatabiliy.\n",
    "- Commonly repeated tasks and objects can be defined with OOP to create code that is more usable.\n",
    "---\n",
    "\n",
    "Object Oriented Programming (OOP) tends to be one of the major obstacles for beginners when they are first starting to learn Python.\n",
    "\n",
    "There are many, many tutorials and lessons covering OOP so feel free to Google search other lessons, and I have also put some links to other useful tutorials online at the bottom of this Notebook.\n",
    "\n",
    "For this lesson we will construct our knowledge of OOP in Python by building on the following topics:\n",
    "\n",
    "* Objects\n",
    "* Using the *class* keyword\n",
    "* Creating class attributes\n",
    "* Creating methods in a class\n",
    "* Learning about Inheritance\n",
    "* Learning about Polymorphism\n",
    "* Learning about Special Methods for classes\n",
    "\n",
    "Lets start the lesson by remembering about the Basic Python Objects. For example:"
   ]
  },
  {
   "cell_type": "code",
   "execution_count": 2,
   "metadata": {},
   "outputs": [],
   "source": [
    "lst = [1,2,3]"
   ]
  },
  {
   "cell_type": "markdown",
   "metadata": {},
   "source": [
    "How can we call methods on a list?"
   ]
  },
  {
   "cell_type": "code",
   "execution_count": 4,
   "metadata": {},
   "outputs": [
    {
     "data": {
      "text/plain": [
       "1"
      ]
     },
     "execution_count": 4,
     "metadata": {},
     "output_type": "execute_result"
    }
   ],
   "source": [
    "lst.count(2)"
   ]
  },
  {
   "cell_type": "markdown",
   "metadata": {},
   "source": [
    "Here we explore how we could create an **Object** type like a list. We've already learned about how to create functions.\n",
    "\n",
    "## Objects\n",
    "\n",
    "- In Python, *everything is an object*. \n",
    "- We can use type() to check the type of object something is:"
   ]
  },
  {
   "cell_type": "code",
   "execution_count": 7,
   "metadata": {},
   "outputs": [
    {
     "name": "stdout",
     "output_type": "stream",
     "text": [
      "<class 'int'>\n",
      "<class 'list'>\n",
      "<class 'tuple'>\n",
      "<class 'dict'>\n"
     ]
    }
   ],
   "source": [
    "print( type( 1 ) )\n",
    "print( type( [] ) )\n",
    "print( type( () ) )\n",
    "print( type( {} ) )"
   ]
  },
  {
   "cell_type": "code",
   "execution_count": 8,
   "metadata": {},
   "outputs": [
    {
     "name": "stdout",
     "output_type": "stream",
     "text": [
      "<class 'int'>\n",
      "<class 'list'>\n",
      "<class 'tuple'>\n",
      "<class 'dict'>\n"
     ]
    }
   ],
   "source": [
    "print(type(1))\n",
    "print(type([]))\n",
    "print(type(()))\n",
    "print(type({}))"
   ]
  },
  {
   "cell_type": "markdown",
   "metadata": {},
   "source": [
    "So we know all these things are objects, so how can we create our own Object types? That is where the <code>class</code> keyword comes in.\n",
    "\n",
    "## class\n",
    "User defined objects are created using the <code>class</code> keyword.\n",
    "\n",
    "The class is a blueprint that defines the nature of a future object. From classes we can construct instances. \n",
    "\n",
    "An instance is a specific object created from a particular class. For example, above we created the object <code>lst</code> which was an instance of a list object. \n",
    "\n",
    "Let see how we can use <code>class</code>:"
   ]
  },
  {
   "cell_type": "raw",
   "metadata": {},
   "source": [
    "class NameOfClass():\n",
    "    def_init_(self,param1,param2):\n",
    "        self.param1 = param1\n",
    "        self.param2 = param2\n",
    "        \n",
    "    def some_method(self):\n",
    "        #perform some action\n",
    "        print(self.param1)"
   ]
  },
  {
   "cell_type": "markdown",
   "metadata": {},
   "source": [
    "Let's explore the syntax. \n",
    "\n",
    "   1) Here the \"**class key word**\",**class** , is the basic way that you define a object. That is why sometimes objects are called classes in python jargon. \n",
    "    \n",
    "   2) The **class keyword** is followed by the name of the class, 'NameOfClass'. Have variable names and objects names start with lowercase because the **names of the classes reserve the uppercase names** . This is strict python convention.\n",
    "   \n",
    "   3) \"def_init_(self,param1,param2):\" , this is a method , it looks like a function but it is called a method when it is initialized inside a class call or an object. This \"_init_\" shows this is a special case of a method that allows you to create an instance of the actual object. You will notice that  there is a \"self\" keyword as well as some parameters that python expects to be passed (\"param1,param2\"), when you actually create an instance of this object.\n",
    "      - When you pass it a parameter say parameter 2 \"param2\" you assign it to an attribute of the function. Then python knows that when you refer to self.parm2 you are refering to param2, that is connected to this actual instance of the class instead of a global variable called param2.\n",
    "   \n",
    "   4) And you pass python \"def some_method(self):\" which takes in the \"self\" keyword from the instance method."
   ]
  },
  {
   "cell_type": "code",
   "execution_count": 9,
   "metadata": {},
   "outputs": [
    {
     "name": "stdout",
     "output_type": "stream",
     "text": [
      "<class '__main__.Sample'>\n"
     ]
    }
   ],
   "source": [
    "# Create a new object type called Sample\n",
    "class Sample:\n",
    "    pass\n",
    "\n",
    "# Instance of Sample\n",
    "x = Sample()\n",
    "\n",
    "print(type(x))"
   ]
  },
  {
   "cell_type": "code",
   "execution_count": null,
   "metadata": {},
   "outputs": [],
   "source": []
  },
  {
   "cell_type": "code",
   "execution_count": null,
   "metadata": {},
   "outputs": [],
   "source": []
  },
  {
   "cell_type": "code",
   "execution_count": null,
   "metadata": {},
   "outputs": [],
   "source": []
  },
  {
   "cell_type": "code",
   "execution_count": null,
   "metadata": {},
   "outputs": [],
   "source": []
  },
  {
   "cell_type": "code",
   "execution_count": null,
   "metadata": {},
   "outputs": [],
   "source": []
  },
  {
   "cell_type": "code",
   "execution_count": null,
   "metadata": {},
   "outputs": [],
   "source": []
  },
  {
   "cell_type": "code",
   "execution_count": null,
   "metadata": {},
   "outputs": [],
   "source": []
  }
 ],
 "metadata": {
  "kernelspec": {
   "display_name": "Python 3",
   "language": "python",
   "name": "python3"
  },
  "language_info": {
   "codemirror_mode": {
    "name": "ipython",
    "version": 3
   },
   "file_extension": ".py",
   "mimetype": "text/x-python",
   "name": "python",
   "nbconvert_exporter": "python",
   "pygments_lexer": "ipython3",
   "version": "3.7.3"
  }
 },
 "nbformat": 4,
 "nbformat_minor": 2
}
