{
 "cells": [
  {
   "cell_type": "code",
   "execution_count": null,
   "metadata": {},
   "outputs": [],
   "source": []
  },
  {
   "cell_type": "markdown",
   "metadata": {},
   "source": [
    "### Background"
   ]
  },
  {
   "cell_type": "markdown",
   "metadata": {},
   "source": [
    "### What is Numpy?"
   ]
  },
  {
   "cell_type": "markdown",
   "metadata": {},
   "source": [
    "Numpy is a multidimensional library. This means that you can use Numpy to store data in one or multiple dimensions.\n",
    "According to numpy.org:\n",
    "\n",
    "NumPy is the fundamental package for scientific computing with Python. It contains among other things:\n",
    "\n",
    "    - a powerful N-dimensional array object\n",
    "\n",
    "    - sophisticated (broadcasting) functions\n",
    "\n",
    "    - tools for integrating C/C++ and Fortran code\n",
    "\n",
    "    - useful linear algebra, Fourier transform, and random number capabilities\n",
    "\n",
    "Besides its obvious scientific uses, NumPy can also be used as an efficient multi-dimensional container of generic data. Arbitrary data-types can be defined. This allows NumPy to integrate with a wide variety of databases."
   ]
  },
  {
   "cell_type": "markdown",
   "metadata": {},
   "source": [
    "### Numpy vs lists ?"
   ]
  },
  {
   "cell_type": "markdown",
   "metadata": {},
   "source": [
    "Lists are slow whilst Numpy is fast. This is because Numpy uses 'fixed types'.\n",
    "1. It is faster to read less bytes of memory.\n",
    " \n",
    " Lists use a inbuilt type in Python that consits of the \n",
    " - object value\n",
    " - object type \n",
    " - size \n",
    " - reference count.\n",
    " \n",
    "hence use of lists uses more space. \n",
    "\n",
    "2. No type checking when iteratinig through objects.\n",
    "3. Numpy uses contiguous memory\n",
    "\n",
    "This means imagine that all the information is not directly next to each other in lists whilst a numpy array uses contiguous memory meaning that the information is stored right next to each other. \n",
    "\n",
    "Benefit is that the CPU have a 'SIMD Vector Processing' (single instruction and multiple data) meaning we can compute computations on the vector whith all values next to each other one time. The second benefit is 'Effective Cache Utilization', meaning we can utilize our cache more efficiently.\n"
   ]
  },
  {
   "cell_type": "markdown",
   "metadata": {},
   "source": [
    "### Applications of Numpy`"
   ]
  },
  {
   "cell_type": "markdown",
   "metadata": {},
   "source": [
    "    - Mathematics (MATLAB Replacement)\n",
    "        Multivariate Calculus Programming (Think of multivariate in R)\n",
    "        Also consider SciPy documentation for Math\n",
    "   \n",
    "    - Plotting (Matplotlib)\n",
    "    - Backend (Pandas , Digital Photography)\n",
    "        Numpy is important with Pandas\n",
    "    - Machine Learning\n",
    "        Think of Tensor Library, it is very similar to Numpy.\n",
    "        \n",
    "    "
   ]
  },
  {
   "cell_type": "markdown",
   "metadata": {},
   "source": [
    "1. Load in NumPy (pip install numpy first)"
   ]
  },
  {
   "cell_type": "code",
   "execution_count": 1,
   "metadata": {},
   "outputs": [],
   "source": [
    "import numpy as np\n",
    "import sys"
   ]
  },
  {
   "cell_type": "markdown",
   "metadata": {},
   "source": [
    "2. Basics\n",
    "  - One Dimensional object"
   ]
  },
  {
   "cell_type": "code",
   "execution_count": 2,
   "metadata": {},
   "outputs": [
    {
     "name": "stdout",
     "output_type": "stream",
     "text": [
      "[1 2 3]\n"
     ]
    }
   ],
   "source": [
    "a = np.array([1,2,3], dtype='int8')\n",
    "print(a)  # print vector/matrix"
   ]
  },
  {
   "cell_type": "code",
   "execution_count": 3,
   "metadata": {},
   "outputs": [
    {
     "name": "stdout",
     "output_type": "stream",
     "text": [
      "Dimension 1\n"
     ]
    }
   ],
   "source": [
    "print(\"Dimension\", a.ndim)  # Print Number of dimensions"
   ]
  },
  {
   "cell_type": "code",
   "execution_count": 8,
   "metadata": {},
   "outputs": [
    {
     "data": {
      "text/plain": [
       "(3,)"
      ]
     },
     "execution_count": 8,
     "metadata": {},
     "output_type": "execute_result"
    }
   ],
   "source": [
    "a.shape # Get the shape?: Its a vector so only the one dimension is given "
   ]
  },
  {
   "cell_type": "code",
   "execution_count": 9,
   "metadata": {},
   "outputs": [
    {
     "name": "stdout",
     "output_type": "stream",
     "text": [
      "Type int8 Size 1 bytes\n"
     ]
    }
   ],
   "source": [
    "# Get Type/ Size\n",
    "print(\"Type\", a.dtype, \"Size\", a.itemsize, \"bytes\")"
   ]
  },
  {
   "cell_type": "markdown",
   "metadata": {},
   "source": [
    "  - Two Dimensional object\n",
    "  \n",
    "Important to note that you can continue doing this and nest a list whithin a list and so on."
   ]
  },
  {
   "cell_type": "code",
   "execution_count": 5,
   "metadata": {},
   "outputs": [
    {
     "name": "stdout",
     "output_type": "stream",
     "text": [
      "[[1. 2. 3.]\n",
      " [4. 5. 6.]]\n"
     ]
    }
   ],
   "source": [
    "# Create a two dimensional array of floats\n",
    "b = np.array( [[1.0,2.0,3.0],[4.0,5.0,6.0]] ) \n",
    "print(b)"
   ]
  },
  {
   "cell_type": "code",
   "execution_count": 6,
   "metadata": {},
   "outputs": [
    {
     "name": "stdout",
     "output_type": "stream",
     "text": [
      "Dimension 2\n"
     ]
    }
   ],
   "source": [
    "print(\"Dimension\", b.ndim)  # Print Number of dimensions"
   ]
  },
  {
   "cell_type": "code",
   "execution_count": 10,
   "metadata": {},
   "outputs": [
    {
     "data": {
      "text/plain": [
       "(2, 3)"
      ]
     },
     "execution_count": 10,
     "metadata": {},
     "output_type": "execute_result"
    }
   ],
   "source": [
    "b.shape # Rows then columns"
   ]
  },
  {
   "cell_type": "markdown",
   "metadata": {},
   "source": [
    "Whant to know how much memory our types are taking up ?"
   ]
  },
  {
   "cell_type": "code",
   "execution_count": 12,
   "metadata": {},
   "outputs": [
    {
     "name": "stdout",
     "output_type": "stream",
     "text": [
      "Type float64 Size 8 bytes\n"
     ]
    }
   ],
   "source": [
    "\n",
    "print(\"Type\", b.dtype, \"Size\", b.itemsize, \"bytes\")# Get Type/ Size"
   ]
  },
  {
   "cell_type": "code",
   "execution_count": null,
   "metadata": {},
   "outputs": [],
   "source": []
  }
 ],
 "metadata": {
  "kernelspec": {
   "display_name": "Python 3",
   "language": "python",
   "name": "python3"
  },
  "language_info": {
   "codemirror_mode": {
    "name": "ipython",
    "version": 3
   },
   "file_extension": ".py",
   "mimetype": "text/x-python",
   "name": "python",
   "nbconvert_exporter": "python",
   "pygments_lexer": "ipython3",
   "version": "3.7.3"
  }
 },
 "nbformat": 4,
 "nbformat_minor": 2
}
