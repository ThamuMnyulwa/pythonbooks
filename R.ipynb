{
 "cells": [
  {
   "cell_type": "markdown",
   "metadata": {},
   "source": [
    "# Chapter 1: Probability theory and Sampling (R)"
   ]
  },
  {
   "cell_type": "markdown",
   "metadata": {},
   "source": [
    "# Psedo random Numbers"
   ]
  },
  {
   "cell_type": "markdown",
   "metadata": {},
   "source": [
    "### 1. Uniform Distribution"
   ]
  },
  {
   "cell_type": "markdown",
   "metadata": {},
   "source": [
    "$$X \\sim\\ U[0,1]$$"
   ]
  },
  {
   "cell_type": "code",
   "execution_count": 2,
   "metadata": {},
   "outputs": [
    {
     "data": {
      "text/html": [
       "<ol class=list-inline>\n",
       "\t<li>0.787237817887217</li>\n",
       "\t<li>0.188941366504878</li>\n",
       "\t<li>0.475725734606385</li>\n",
       "\t<li>0.239411359187216</li>\n",
       "\t<li>0.494039857992902</li>\n",
       "</ol>\n"
      ],
      "text/latex": [
       "\\begin{enumerate*}\n",
       "\\item 0.787237817887217\n",
       "\\item 0.188941366504878\n",
       "\\item 0.475725734606385\n",
       "\\item 0.239411359187216\n",
       "\\item 0.494039857992902\n",
       "\\end{enumerate*}\n"
      ],
      "text/markdown": [
       "1. 0.787237817887217\n",
       "2. 0.188941366504878\n",
       "3. 0.475725734606385\n",
       "4. 0.239411359187216\n",
       "5. 0.494039857992902\n",
       "\n",
       "\n"
      ],
      "text/plain": [
       "[1] 0.7872378 0.1889414 0.4757257 0.2394114 0.4940399"
      ]
     },
     "metadata": {},
     "output_type": "display_data"
    }
   ],
   "source": [
    "runif(n = 1) # n random numbers"
   ]
  },
  {
   "cell_type": "code",
   "execution_count": null,
   "metadata": {},
   "outputs": [],
   "source": [
    "runif(n =2 , min = 0, max = 1) # min = a & max = b in uniform"
   ]
  },
  {
   "cell_type": "code",
   "execution_count": null,
   "metadata": {},
   "outputs": [],
   "source": []
  },
  {
   "cell_type": "code",
   "execution_count": null,
   "metadata": {},
   "outputs": [],
   "source": []
  }
 ],
 "metadata": {
  "kernelspec": {
   "display_name": "R",
   "language": "R",
   "name": "ir"
  },
  "language_info": {
   "codemirror_mode": "r",
   "file_extension": ".r",
   "mimetype": "text/x-r-source",
   "name": "R",
   "pygments_lexer": "r",
   "version": "3.6.1"
  }
 },
 "nbformat": 4,
 "nbformat_minor": 2
}
